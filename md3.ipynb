{
  "nbformat": 4,
  "nbformat_minor": 0,
  "metadata": {
    "colab": {
      "provenance": [],
      "authorship_tag": "ABX9TyPllT4O4Sf4mrYzuwpO4Ci+",
      "include_colab_link": true
    },
    "kernelspec": {
      "name": "python3",
      "display_name": "Python 3"
    },
    "language_info": {
      "name": "python"
    }
  },
  "cells": [
    {
      "cell_type": "markdown",
      "metadata": {
        "id": "view-in-github",
        "colab_type": "text"
      },
      "source": [
        "<a href=\"https://colab.research.google.com/github/oompaloompa77/Repositorio_Base_Mariana/blob/main/md3.ipynb\" target=\"_parent\"><img src=\"https://colab.research.google.com/assets/colab-badge.svg\" alt=\"Open In Colab\"/></a>"
      ]
    },
    {
      "cell_type": "code",
      "execution_count": 16,
      "metadata": {
        "colab": {
          "base_uri": "https://localhost:8080/"
        },
        "id": "Pqmj6Gz78NPu",
        "outputId": "9dbf6550-632b-4487-8c2e-517e585c4b92"
      },
      "outputs": [
        {
          "output_type": "stream",
          "name": "stdout",
          "text": [
            "                  nome  unidade  escala_noturna    vendas\n",
            "0            Ana Souza        2           False  18754.32\n",
            "2       Carla Ferreira        3           False  19876.45\n",
            "4   Eduarda Nascimento        1           False  15789.66\n",
            "8       Isabela Araujo        3           False  19456.78\n",
            "10     Karina Oliveira        2           False  17654.12\n",
            "14      Olívia Barbosa        2           False  18321.44\n"
          ]
        }
      ],
      "source": [
        "#Exercicio 1\n",
        "import pandas as pd\n",
        "\n",
        "#Exercicio 2\n",
        "funcionarios = {\n",
        "    \"nome\": [\n",
        "        \"Ana Souza\", \"Bruno Lima\", \"Carla Ferreira\", \"Diego Santos\", \"Eduarda Nascimento\",\n",
        "        \"Felipe Almeida\", \"Giovana Ramos\", \"Henrique Costa\", \"Isabela Araujo\", \"João Pereira\",\n",
        "        \"Karina Oliveira\", \"Lucas Rodrigues\", \"Mariana Machado\", \"Nathan Silva\", \"Olívia Barbosa\"\n",
        "    ],\n",
        "    \"unidade\": [\n",
        "        2, 1, 3, 2, 1,\n",
        "        3, 1, 2, 3, 1,\n",
        "        2, 3, 1, 3, 2\n",
        "    ],\n",
        "    \"escala_noturna\": [\n",
        "        False, True, False, True, False,\n",
        "        True, False, True, False, True,\n",
        "        False, True, False, True, False\n",
        "    ],\n",
        "    \"vendas\": [\n",
        "        18754.32, 24321.89, 19876.45, 27543.22, 15789.66,\n",
        "        29123.10, 22345.99, 26789.40, 19456.78, 28345.55,\n",
        "        17654.12, 23876.99, 20543.70, 29654.88, 18321.44\n",
        "    ]\n",
        "}\n",
        "df = pd.DataFrame(funcionarios)\n",
        "\n",
        "# print(pd.DataFrame(funcionarios))\n",
        "# df['nome']\n",
        "\n",
        "# df['unidade']\n",
        "\n",
        "# df['escala_noturna']\n",
        "\n",
        "# df['vendas']\n",
        "\n",
        "# print(pd.Series(funcionarios))\n",
        "# print(df['unidade'].value_counts())\n",
        "\n",
        "# print(df['escala_noturna'].value_counts())\n",
        "lista = df[df['vendas']< 20000]\n",
        "print(lista)\n"
      ]
    }
  ]
}